{
 "cells": [
  {
   "cell_type": "code",
   "execution_count": 1,
   "id": "219a7f9a",
   "metadata": {},
   "outputs": [
    {
     "data": {
      "text/plain": [
       "[11, 22, 33]"
      ]
     },
     "execution_count": 1,
     "metadata": {},
     "output_type": "execute_result"
    }
   ],
   "source": [
    "l = [11, 22, 33]\n",
    "l"
   ]
  },
  {
   "cell_type": "code",
   "execution_count": 2,
   "id": "e6d0a422",
   "metadata": {},
   "outputs": [
    {
     "data": {
      "text/plain": [
       "list"
      ]
     },
     "execution_count": 2,
     "metadata": {},
     "output_type": "execute_result"
    }
   ],
   "source": [
    "type(l)"
   ]
  },
  {
   "cell_type": "code",
   "execution_count": 3,
   "id": "8f7e1d10",
   "metadata": {},
   "outputs": [
    {
     "data": {
      "text/plain": [
       "int"
      ]
     },
     "execution_count": 3,
     "metadata": {},
     "output_type": "execute_result"
    }
   ],
   "source": [
    "type(l[0])"
   ]
  },
  {
   "cell_type": "code",
   "execution_count": 4,
   "id": "b3dc90f0",
   "metadata": {},
   "outputs": [],
   "source": [
    "# numpy"
   ]
  },
  {
   "cell_type": "code",
   "execution_count": 5,
   "id": "13ec4566",
   "metadata": {},
   "outputs": [],
   "source": [
    "import numpy as np"
   ]
  },
  {
   "cell_type": "code",
   "execution_count": 6,
   "id": "e5e15cc8",
   "metadata": {},
   "outputs": [
    {
     "data": {
      "text/plain": [
       "array([11, 22, 33])"
      ]
     },
     "execution_count": 6,
     "metadata": {},
     "output_type": "execute_result"
    }
   ],
   "source": [
    "x = np.array([11, 22, 33])\n",
    "x"
   ]
  },
  {
   "cell_type": "code",
   "execution_count": 7,
   "id": "153afa6d",
   "metadata": {},
   "outputs": [
    {
     "data": {
      "text/plain": [
       "numpy.ndarray"
      ]
     },
     "execution_count": 7,
     "metadata": {},
     "output_type": "execute_result"
    }
   ],
   "source": [
    "type(x)"
   ]
  },
  {
   "cell_type": "code",
   "execution_count": 8,
   "id": "66ec7d85",
   "metadata": {},
   "outputs": [
    {
     "data": {
      "text/plain": [
       "numpy.int64"
      ]
     },
     "execution_count": 8,
     "metadata": {},
     "output_type": "execute_result"
    }
   ],
   "source": [
    "type(x[0])"
   ]
  },
  {
   "cell_type": "code",
   "execution_count": 9,
   "id": "0689d632",
   "metadata": {},
   "outputs": [
    {
     "data": {
      "text/plain": [
       "array([11, 22, 33, 44, 55])"
      ]
     },
     "execution_count": 9,
     "metadata": {},
     "output_type": "execute_result"
    }
   ],
   "source": [
    "x = np.array([11, 22, 33, 44, 55])\n",
    "x"
   ]
  },
  {
   "cell_type": "code",
   "execution_count": 10,
   "id": "99601e8a",
   "metadata": {},
   "outputs": [
    {
     "data": {
      "text/plain": [
       "33.0"
      ]
     },
     "execution_count": 10,
     "metadata": {},
     "output_type": "execute_result"
    }
   ],
   "source": [
    "x.mean()"
   ]
  },
  {
   "cell_type": "code",
   "execution_count": 13,
   "id": "1929cba0",
   "metadata": {},
   "outputs": [
    {
     "data": {
      "text/html": [
       "<div>\n",
       "<style scoped>\n",
       "    .dataframe tbody tr th:only-of-type {\n",
       "        vertical-align: middle;\n",
       "    }\n",
       "\n",
       "    .dataframe tbody tr th {\n",
       "        vertical-align: top;\n",
       "    }\n",
       "\n",
       "    .dataframe thead th {\n",
       "        text-align: right;\n",
       "    }\n",
       "</style>\n",
       "<table border=\"1\" class=\"dataframe\">\n",
       "  <thead>\n",
       "    <tr style=\"text-align: right;\">\n",
       "      <th></th>\n",
       "      <th>都道府県</th>\n",
       "      <th>総人口</th>\n",
       "      <th>総人口(男)</th>\n",
       "      <th>総人口(女)</th>\n",
       "      <th>日本人口</th>\n",
       "      <th>外国人人口</th>\n",
       "      <th>総面積</th>\n",
       "      <th>可住地面積</th>\n",
       "      <th>県内総生産額</th>\n",
       "      <th>県民取得</th>\n",
       "      <th>...</th>\n",
       "      <th>コンビニ数</th>\n",
       "      <th>飲食店数</th>\n",
       "      <th>公衆浴場数</th>\n",
       "      <th>一般病院数</th>\n",
       "      <th>薬局数</th>\n",
       "      <th>世帯主の配偶者の収入</th>\n",
       "      <th>消費支出</th>\n",
       "      <th>住居費</th>\n",
       "      <th>光熱・水道費</th>\n",
       "      <th>教育費</th>\n",
       "    </tr>\n",
       "  </thead>\n",
       "  <tbody>\n",
       "    <tr>\n",
       "      <th>0</th>\n",
       "      <td>北海道</td>\n",
       "      <td>5250000</td>\n",
       "      <td>2472000</td>\n",
       "      <td>2778000</td>\n",
       "      <td>5211000</td>\n",
       "      <td>21676</td>\n",
       "      <td>83456.87</td>\n",
       "      <td>22699.23</td>\n",
       "      <td>194301</td>\n",
       "      <td>142696</td>\n",
       "      <td>...</td>\n",
       "      <td>2194</td>\n",
       "      <td>26585</td>\n",
       "      <td>256</td>\n",
       "      <td>484</td>\n",
       "      <td>2333</td>\n",
       "      <td>73207</td>\n",
       "      <td>334015</td>\n",
       "      <td>27305</td>\n",
       "      <td>27309</td>\n",
       "      <td>9394</td>\n",
       "    </tr>\n",
       "    <tr>\n",
       "      <th>1</th>\n",
       "      <td>青森県</td>\n",
       "      <td>1246000</td>\n",
       "      <td>585000</td>\n",
       "      <td>661000</td>\n",
       "      <td>1240000</td>\n",
       "      <td>3447</td>\n",
       "      <td>9644.54</td>\n",
       "      <td>3253.19</td>\n",
       "      <td>44432</td>\n",
       "      <td>31833</td>\n",
       "      <td>...</td>\n",
       "      <td>404</td>\n",
       "      <td>6744</td>\n",
       "      <td>287</td>\n",
       "      <td>77</td>\n",
       "      <td>619</td>\n",
       "      <td>83166</td>\n",
       "      <td>278356</td>\n",
       "      <td>18537</td>\n",
       "      <td>27837</td>\n",
       "      <td>3841</td>\n",
       "    </tr>\n",
       "    <tr>\n",
       "      <th>2</th>\n",
       "      <td>岩手県</td>\n",
       "      <td>1227000</td>\n",
       "      <td>592000</td>\n",
       "      <td>635000</td>\n",
       "      <td>1219000</td>\n",
       "      <td>5017</td>\n",
       "      <td>15278.89</td>\n",
       "      <td>3751.37</td>\n",
       "      <td>46512</td>\n",
       "      <td>34779</td>\n",
       "      <td>...</td>\n",
       "      <td>398</td>\n",
       "      <td>5668</td>\n",
       "      <td>18</td>\n",
       "      <td>76</td>\n",
       "      <td>605</td>\n",
       "      <td>113215</td>\n",
       "      <td>293157</td>\n",
       "      <td>24850</td>\n",
       "      <td>27129</td>\n",
       "      <td>6573</td>\n",
       "    </tr>\n",
       "    <tr>\n",
       "      <th>3</th>\n",
       "      <td>宮城県</td>\n",
       "      <td>2306000</td>\n",
       "      <td>1127000</td>\n",
       "      <td>1179000</td>\n",
       "      <td>2283000</td>\n",
       "      <td>13989</td>\n",
       "      <td>7285.76</td>\n",
       "      <td>3185.91</td>\n",
       "      <td>94639</td>\n",
       "      <td>68388</td>\n",
       "      <td>...</td>\n",
       "      <td>777</td>\n",
       "      <td>9560</td>\n",
       "      <td>7</td>\n",
       "      <td>112</td>\n",
       "      <td>1165</td>\n",
       "      <td>51130</td>\n",
       "      <td>285393</td>\n",
       "      <td>24121</td>\n",
       "      <td>22717</td>\n",
       "      <td>6955</td>\n",
       "    </tr>\n",
       "    <tr>\n",
       "      <th>4</th>\n",
       "      <td>秋田県</td>\n",
       "      <td>966000</td>\n",
       "      <td>454000</td>\n",
       "      <td>512000</td>\n",
       "      <td>963000</td>\n",
       "      <td>2914</td>\n",
       "      <td>11636.25</td>\n",
       "      <td>3233.34</td>\n",
       "      <td>35630</td>\n",
       "      <td>26876</td>\n",
       "      <td>...</td>\n",
       "      <td>309</td>\n",
       "      <td>4704</td>\n",
       "      <td>13</td>\n",
       "      <td>52</td>\n",
       "      <td>521</td>\n",
       "      <td>102944</td>\n",
       "      <td>300312</td>\n",
       "      <td>14661</td>\n",
       "      <td>25743</td>\n",
       "      <td>4394</td>\n",
       "    </tr>\n",
       "  </tbody>\n",
       "</table>\n",
       "<p>5 rows × 33 columns</p>\n",
       "</div>"
      ],
      "text/plain": [
       "  都道府県      総人口   総人口(男)   総人口(女)     日本人口  外国人人口       総面積     可住地面積  県内総生産額  \\\n",
       "0  北海道  5250000  2472000  2778000  5211000  21676  83456.87  22699.23  194301   \n",
       "1  青森県  1246000   585000   661000  1240000   3447   9644.54   3253.19   44432   \n",
       "2  岩手県  1227000   592000   635000  1219000   5017  15278.89   3751.37   46512   \n",
       "3  宮城県  2306000  1127000  1179000  2283000  13989   7285.76   3185.91   94639   \n",
       "4  秋田県   966000   454000   512000   963000   2914  11636.25   3233.34   35630   \n",
       "\n",
       "     県民取得  ...  コンビニ数   飲食店数  公衆浴場数  一般病院数   薬局数  世帯主の配偶者の収入    消費支出    住居費  \\\n",
       "0  142696  ...   2194  26585    256    484  2333       73207  334015  27305   \n",
       "1   31833  ...    404   6744    287     77   619       83166  278356  18537   \n",
       "2   34779  ...    398   5668     18     76   605      113215  293157  24850   \n",
       "3   68388  ...    777   9560      7    112  1165       51130  285393  24121   \n",
       "4   26876  ...    309   4704     13     52   521      102944  300312  14661   \n",
       "\n",
       "   光熱・水道費   教育費  \n",
       "0   27309  9394  \n",
       "1   27837  3841  \n",
       "2   27129  6573  \n",
       "3   22717  6955  \n",
       "4   25743  4394  \n",
       "\n",
       "[5 rows x 33 columns]"
      ]
     },
     "execution_count": 13,
     "metadata": {},
     "output_type": "execute_result"
    }
   ],
   "source": [
    "import pandas as pd\n",
    "df = pd.read_csv(\"sample_data_01.csv\")\n",
    "df.head()"
   ]
  },
  {
   "cell_type": "code",
   "execution_count": 14,
   "id": "7c5ddd47",
   "metadata": {
    "scrolled": true
   },
   "outputs": [
    {
     "data": {
      "text/plain": [
       "2684404.255319149"
      ]
     },
     "execution_count": 14,
     "metadata": {},
     "output_type": "execute_result"
    }
   ],
   "source": [
    "df[\"総人口\"].values.mean()"
   ]
  },
  {
   "cell_type": "code",
   "execution_count": 15,
   "id": "8bc2b293",
   "metadata": {},
   "outputs": [
    {
     "data": {
      "text/plain": [
       "89068.17021276595"
      ]
     },
     "execution_count": 15,
     "metadata": {},
     "output_type": "execute_result"
    }
   ],
   "source": [
    "df[\"県民取得\"].values.mean()"
   ]
  },
  {
   "cell_type": "code",
   "execution_count": 17,
   "id": "00c31136",
   "metadata": {},
   "outputs": [
    {
     "data": {
      "text/plain": [
       "array([[1, 2, 3],\n",
       "       [4, 5, 6]])"
      ]
     },
     "execution_count": 17,
     "metadata": {},
     "output_type": "execute_result"
    }
   ],
   "source": [
    "x = np.array([[1,2,3],[4,5,6]])\n",
    "x"
   ]
  },
  {
   "cell_type": "code",
   "execution_count": 18,
   "id": "313aa781",
   "metadata": {},
   "outputs": [
    {
     "data": {
      "text/plain": [
       "(2, 3)"
      ]
     },
     "execution_count": 18,
     "metadata": {},
     "output_type": "execute_result"
    }
   ],
   "source": [
    "x.shape"
   ]
  },
  {
   "cell_type": "code",
   "execution_count": 19,
   "id": "94a4dd96",
   "metadata": {},
   "outputs": [
    {
     "data": {
      "text/plain": [
       "array([ 0,  1,  2,  3,  4,  5,  6,  7,  8,  9, 10])"
      ]
     },
     "execution_count": 19,
     "metadata": {},
     "output_type": "execute_result"
    }
   ],
   "source": [
    "x = np.arange(11)\n",
    "x"
   ]
  },
  {
   "cell_type": "code",
   "execution_count": 21,
   "id": "abbf93a5",
   "metadata": {},
   "outputs": [
    {
     "data": {
      "text/plain": [
       "array([[ 1,  2,  3,  4,  5],\n",
       "       [ 6,  7,  8,  9, 10]])"
      ]
     },
     "execution_count": 21,
     "metadata": {},
     "output_type": "execute_result"
    }
   ],
   "source": [
    "x = np.arange(1,11).reshape(2,5)\n",
    "x"
   ]
  },
  {
   "cell_type": "code",
   "execution_count": 23,
   "id": "022ef0c6",
   "metadata": {},
   "outputs": [
    {
     "data": {
      "text/plain": [
       "array([0.  , 0.25, 0.5 , 0.75, 1.  , 1.25, 1.5 , 1.75, 2.  , 2.25, 2.5 ,\n",
       "       2.75, 3.  , 3.25, 3.5 , 3.75, 4.  , 4.25, 4.5 , 4.75])"
      ]
     },
     "execution_count": 23,
     "metadata": {},
     "output_type": "execute_result"
    }
   ],
   "source": [
    "x = np.arange(0,5,0.25)\n",
    "x"
   ]
  },
  {
   "cell_type": "code",
   "execution_count": 24,
   "id": "e8cd48d0",
   "metadata": {},
   "outputs": [],
   "source": [
    "x = np.arange(1,11,2)\n",
    "y= np.arange(1,6)"
   ]
  },
  {
   "cell_type": "code",
   "execution_count": 25,
   "id": "486f47c8",
   "metadata": {},
   "outputs": [
    {
     "data": {
      "text/plain": [
       "array([1, 3, 5, 7, 9])"
      ]
     },
     "execution_count": 25,
     "metadata": {},
     "output_type": "execute_result"
    }
   ],
   "source": [
    "x"
   ]
  },
  {
   "cell_type": "code",
   "execution_count": 26,
   "id": "bb37b495",
   "metadata": {},
   "outputs": [
    {
     "data": {
      "text/plain": [
       "array([1, 2, 3, 4, 5])"
      ]
     },
     "execution_count": 26,
     "metadata": {},
     "output_type": "execute_result"
    }
   ],
   "source": [
    "y"
   ]
  },
  {
   "cell_type": "code",
   "execution_count": 27,
   "id": "bed876e8",
   "metadata": {},
   "outputs": [
    {
     "data": {
      "text/plain": [
       "array([1, 3, 5, 7, 9, 1, 2, 3, 4, 5])"
      ]
     },
     "execution_count": 27,
     "metadata": {},
     "output_type": "execute_result"
    }
   ],
   "source": [
    "np.append(x,y)"
   ]
  },
  {
   "cell_type": "code",
   "execution_count": 28,
   "id": "957503ac",
   "metadata": {},
   "outputs": [
    {
     "data": {
      "text/plain": [
       "array([[1, 3, 5, 7, 9],\n",
       "       [1, 2, 3, 4, 5]])"
      ]
     },
     "execution_count": 28,
     "metadata": {},
     "output_type": "execute_result"
    }
   ],
   "source": [
    "np.vstack([x,y])"
   ]
  },
  {
   "cell_type": "code",
   "execution_count": 29,
   "id": "1cfdede2",
   "metadata": {},
   "outputs": [
    {
     "data": {
      "text/plain": [
       "array([1, 3, 5, 7, 9, 1, 2, 3, 4, 5])"
      ]
     },
     "execution_count": 29,
     "metadata": {},
     "output_type": "execute_result"
    }
   ],
   "source": [
    "np.hstack([x,y])"
   ]
  },
  {
   "cell_type": "code",
   "execution_count": 30,
   "id": "e19c939a",
   "metadata": {},
   "outputs": [
    {
     "data": {
      "text/plain": [
       "array([1, 3, 5, 7, 9])"
      ]
     },
     "execution_count": 30,
     "metadata": {},
     "output_type": "execute_result"
    }
   ],
   "source": [
    "x"
   ]
  },
  {
   "cell_type": "code",
   "execution_count": 31,
   "id": "574786cf",
   "metadata": {},
   "outputs": [
    {
     "data": {
      "text/plain": [
       "array([1, 2, 3, 4, 5])"
      ]
     },
     "execution_count": 31,
     "metadata": {},
     "output_type": "execute_result"
    }
   ],
   "source": [
    "y"
   ]
  },
  {
   "cell_type": "code",
   "execution_count": 32,
   "id": "3d6452f7",
   "metadata": {},
   "outputs": [
    {
     "data": {
      "text/plain": [
       "array([ 2,  5,  8, 11, 14])"
      ]
     },
     "execution_count": 32,
     "metadata": {},
     "output_type": "execute_result"
    }
   ],
   "source": [
    "x + y"
   ]
  },
  {
   "cell_type": "code",
   "execution_count": 33,
   "id": "0ad6837e",
   "metadata": {},
   "outputs": [
    {
     "data": {
      "text/plain": [
       "array([0, 1, 2, 3, 4])"
      ]
     },
     "execution_count": 33,
     "metadata": {},
     "output_type": "execute_result"
    }
   ],
   "source": [
    "x - y"
   ]
  },
  {
   "cell_type": "code",
   "execution_count": 34,
   "id": "960ef75a",
   "metadata": {},
   "outputs": [
    {
     "data": {
      "text/plain": [
       "array([False,  True,  True,  True,  True])"
      ]
     },
     "execution_count": 34,
     "metadata": {},
     "output_type": "execute_result"
    }
   ],
   "source": [
    "x > y"
   ]
  },
  {
   "cell_type": "code",
   "execution_count": 35,
   "id": "ec08c8c0",
   "metadata": {},
   "outputs": [
    {
     "data": {
      "text/plain": [
       "array([1.        , 1.5       , 1.66666667, 1.75      , 1.8       ])"
      ]
     },
     "execution_count": 35,
     "metadata": {},
     "output_type": "execute_result"
    }
   ],
   "source": [
    "x / y"
   ]
  },
  {
   "cell_type": "code",
   "execution_count": null,
   "id": "9bb609e4",
   "metadata": {},
   "outputs": [],
   "source": []
  }
 ],
 "metadata": {
  "kernelspec": {
   "display_name": "Python 3 (ipykernel)",
   "language": "python",
   "name": "python3"
  },
  "language_info": {
   "codemirror_mode": {
    "name": "ipython",
    "version": 3
   },
   "file_extension": ".py",
   "mimetype": "text/x-python",
   "name": "python",
   "nbconvert_exporter": "python",
   "pygments_lexer": "ipython3",
   "version": "3.10.6"
  }
 },
 "nbformat": 4,
 "nbformat_minor": 5
}
